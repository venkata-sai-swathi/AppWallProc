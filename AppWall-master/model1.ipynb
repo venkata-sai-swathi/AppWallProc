{
  "nbformat": 4,
  "nbformat_minor": 0,
  "metadata": {
    "colab": {
      "name": "model1.ipynb",
      "provenance": [],
      "machine_shape": "hm",
      "include_colab_link": true
    },
    "kernelspec": {
      "name": "python3",
      "display_name": "Python 3"
    }
  },
  "cells": [
    {
      "cell_type": "markdown",
      "metadata": {
        "id": "view-in-github",
        "colab_type": "text"
      },
      "source": [
        "<a href=\"https://colab.research.google.com/github/ArunKls/AppWall/blob/master/model1.ipynb\" target=\"_parent\"><img src=\"https://colab.research.google.com/assets/colab-badge.svg\" alt=\"Open In Colab\"/></a>"
      ]
    },
    {
      "cell_type": "code",
      "metadata": {
        "id": "N7A_QnTMQf_W",
        "colab_type": "code",
        "colab": {}
      },
      "source": [
        "import pandas\n",
        "from sklearn.preprocessing import LabelEncoder\n",
        "from sklearn.preprocessing import OneHotEncoder\n",
        "from sklearn.preprocessing import Imputer\n",
        "from sklearn.ensemble import ExtraTreesClassifier\n",
        "import matplotlib.pyplot as plt\n",
        "import numpy as np\n",
        "filename = 'dataset1.csv'\n",
        "data = pandas.read_csv(filename)\n",
        "data1=data.drop(columns=\"Source IP\")\n",
        "#data1=data1.drop(columns=\"Destination IP\")\n",
        "data1=data1.drop(columns=\"date\")\n",
        "data1=data1.drop(columns=\"network\")\n",
        "data1=data1.drop(columns=\"Protocol\")\n",
        "data1.drop(data1.iloc[:, 22:34], inplace = True, axis = 1)\n",
        "data1.replace('', np.nan, inplace=True)\n",
        "counts = data1['label'].value_counts().to_dict()\n",
        "for j,i in data1.iterrows():\n",
        "  if(counts[i['label']]<800):\n",
        "    data1.loc[j,'label']=\"Other\"\n",
        "print(data1['label'].value_counts())"
      ],
      "execution_count": 0,
      "outputs": []
    },
    {
      "cell_type": "code",
      "metadata": {
        "id": "2uOnQ5dPD5rM",
        "colab_type": "code",
        "outputId": "00ad2393-1d79-4096-9de0-44745d2837d1",
        "colab": {
          "base_uri": "https://localhost:8080/",
          "height": 496
        }
      },
      "source": [
        "filename1 = 'dataset2.csv'\n",
        "data2 = pandas.read_csv(filename1)\n",
        "data2=data2.drop(columns=\"Source IP\")\n",
        "#data2=data2.drop(columns=\"Destination IP\")\n",
        "data2=data2.drop(columns=\"date\")\n",
        "data2=data2.drop(columns=\"network\")\n",
        "data2=data2.drop(columns=\"Protocol\")\n",
        "data2.drop(data2.iloc[:, 22:34], inplace = True, axis = 1)\n",
        "data2.replace('', np.nan, inplace=True)\n",
        "counts[\"Other\"]=1\n",
        "counts1 = data2['label'].value_counts().to_dict()\n",
        "data3=data1.drop_duplicates(subset=['label'])\n",
        "for k,l in data3.iterrows():\n",
        "  if l['label'] not in list(set(counts.keys())-set(counts1.keys())):\n",
        "    data3.drop(k, inplace=True)\n",
        "data2=data2.append(data3, ignore_index=True)\n",
        "data2.shape\n",
        "counts1 = data2['label'].value_counts().to_dict()\n",
        "set(counts1.keys())-set(counts.keys())"
      ],
      "execution_count": 3,
      "outputs": [
        {
          "output_type": "stream",
          "text": [
            "/usr/local/lib/python3.6/dist-packages/pandas/core/frame.py:4117: SettingWithCopyWarning: \n",
            "A value is trying to be set on a copy of a slice from a DataFrame\n",
            "\n",
            "See the caveats in the documentation: http://pandas.pydata.org/pandas-docs/stable/user_guide/indexing.html#returning-a-view-versus-a-copy\n",
            "  errors=errors,\n"
          ],
          "name": "stderr"
        },
        {
          "output_type": "execute_result",
          "data": {
            "text/plain": [
              "{'189Mail',\n",
              " 'AmapLocateService',\n",
              " 'AnJianJingLing',\n",
              " 'CourseLike',\n",
              " 'Ctrip',\n",
              " 'Evernote',\n",
              " 'Knives Out ',\n",
              " 'LYCOM',\n",
              " 'MaoPu',\n",
              " 'MiGuVideo',\n",
              " 'OPengExplore',\n",
              " 'PushService',\n",
              " 'Qunar',\n",
              " 'RootJingling',\n",
              " 'SystemUpdate',\n",
              " 'Vipshop',\n",
              " 'WPS Office',\n",
              " 'XiaoEnAi',\n",
              " 'elongTravel',\n",
              " 'sina_mail',\n",
              " 'tencent_map',\n",
              " 'waphome'}"
            ]
          },
          "metadata": {
            "tags": []
          },
          "execution_count": 3
        }
      ]
    },
    {
      "cell_type": "code",
      "metadata": {
        "id": "07G-VpL8EAAH",
        "colab_type": "code",
        "colab": {}
      },
      "source": [
        "counts0 = data1['label'].value_counts().to_dict()\n",
        "for m,n in data2.iterrows():\n",
        "  if n['label'] in list(set(counts1.keys())-set(counts0.keys())):\n",
        "    data2.drop(m, inplace=True)\n",
        "counts1 = data2['label'].value_counts().to_dict()"
      ],
      "execution_count": 0,
      "outputs": []
    },
    {
      "cell_type": "code",
      "metadata": {
        "id": "WaaIuS5-iCSF",
        "colab_type": "code",
        "colab": {}
      },
      "source": [
        "from sklearn.model_selection import train_test_split\n",
        "data3=data1.append(data2, ignore_index=True)\n",
        "label_encoder = LabelEncoder()\n",
        "data3['Destination IP'] = label_encoder.fit_transform(data3['Destination IP'])\n",
        "data3['target'] = label_encoder.fit_transform(data3['label'])\n",
        "data3=data3.drop(columns=\"label\")\n",
        "X2 = data3.iloc[:,0:-1]  #independent columns\n",
        "y2 = data3.iloc[:,-1]"
      ],
      "execution_count": 0,
      "outputs": []
    },
    {
      "cell_type": "code",
      "metadata": {
        "id": "bc2fu7DniIhQ",
        "colab_type": "code",
        "colab": {
          "base_uri": "https://localhost:8080/",
          "height": 122
        },
        "outputId": "0705ddf9-fdd5-44f0-8025-e888ed2198f6"
      },
      "source": [
        "from sklearn.model_selection import cross_val_score\n",
        "from sklearn.metrics import classification_report\n",
        "X3=pandas.DataFrame()\n",
        "for a,b in X2.iterrows():\n",
        "  if a%100==0:\n",
        "    X3=X3.append(b)\n",
        "    X2.drop(a, inplace=True)\n",
        "X4 = X2.iloc[:,0:-1]\n",
        "y4 = X2.iloc[:,-1]\n",
        "X5 = X3.iloc[:,0:-1]\n",
        "y5 = X3.iloc[:,-1]"
      ],
      "execution_count": 6,
      "outputs": [
        {
          "output_type": "stream",
          "text": [
            "/usr/local/lib/python3.6/dist-packages/pandas/core/frame.py:4117: SettingWithCopyWarning: \n",
            "A value is trying to be set on a copy of a slice from a DataFrame\n",
            "\n",
            "See the caveats in the documentation: http://pandas.pydata.org/pandas-docs/stable/user_guide/indexing.html#returning-a-view-versus-a-copy\n",
            "  errors=errors,\n"
          ],
          "name": "stderr"
        }
      ]
    },
    {
      "cell_type": "code",
      "metadata": {
        "id": "F2YlQebkig7B",
        "colab_type": "code",
        "colab": {}
      },
      "source": [
        "train_X4, test_X4, train_y4, test_y4 = train_test_split(X4, y4, test_size = 0.25, random_state = 42)"
      ],
      "execution_count": 0,
      "outputs": []
    },
    {
      "cell_type": "code",
      "metadata": {
        "id": "aHuJFJZREAHd",
        "colab_type": "code",
        "colab": {}
      },
      "source": [
        "from sklearn.naive_bayes import GaussianNB\n",
        "\n",
        "clf = GaussianNB()\n",
        "\n",
        "\n",
        "predictions=clf.predict(test_X4)\n",
        "print(classification_report(test_y4,predictions))\n",
        "scores = cross_val_score(clf, train_X4, train_y4, cv=5)\n",
        "print(scores.mean())"
      ],
      "execution_count": 0,
      "outputs": []
    },
    {
      "cell_type": "code",
      "metadata": {
        "id": "QDNfIZhSBSp6",
        "colab_type": "code",
        "colab": {}
      },
      "source": [
        "from sklearn.tree import DecisionTreeClassifier\n",
        "\n",
        "clf = DecisionTreeClassifier()\n",
        "\n",
        "\n",
        "predictions=clf.predict(test_X4)\n",
        "print(classification_report(test_y4,predictions))\n",
        "scores = cross_val_score(clf, train_X4, train_y4, cv=5)\n",
        "print(scores.mean())"
      ],
      "execution_count": 0,
      "outputs": []
    },
    {
      "cell_type": "code",
      "metadata": {
        "id": "ay4ewmCG3zjR",
        "colab_type": "code",
        "colab": {}
      },
      "source": [
        "from sklearn.ensemble import AdaBoostClassifier\n",
        "\n",
        "clf = AdaBoostClassifier()\n",
        "\n",
        "\n",
        "predictions=clf.predict(test_X4)\n",
        "print(classification_report(test_y4,predictions))\n",
        "scores = cross_val_score(clf, train_X4, train_y4, cv=5)\n",
        "print(scores.mean())"
      ],
      "execution_count": 0,
      "outputs": []
    },
    {
      "cell_type": "code",
      "metadata": {
        "id": "INq0Jz32uzPO",
        "colab_type": "code",
        "colab": {}
      },
      "source": [
        "from sklearn.svm import SVC\n",
        "\n",
        "\n",
        "\n",
        "\n",
        "clf = SVC(kernel='linear', verbose=1)\n",
        "\n",
        "\n",
        "clf.fit(train_X4, train_y4)\n",
        "predictions=clf.predict(test_X4)\n",
        "print(classification_report(test_y4,predictions2))\n",
        "scores2 = cross_val_score(clf, train_X4, train_y4, cv=5)\n",
        "print(scores2.mean())"
      ],
      "execution_count": 0,
      "outputs": []
    },
    {
      "cell_type": "code",
      "metadata": {
        "id": "HRMrOOvOEC4P",
        "colab_type": "code",
        "colab": {}
      },
      "source": [
        "from sklearn.ensemble import RandomForestClassifier\n",
        "\n",
        "clf2 = RandomForestClassifier(n_jobs=-1, random_state=0, verbose=1,n_estimators=100)\n",
        "\n",
        "\n",
        "clf.fit(train_X4, train_y4)\n",
        "predictions=clf.predict(test_X4)\n",
        "print(classification_report(test_y4,predictions))\n",
        "scores = cross_val_score(clf, train_X4, train_y4, cv=2)\n",
        "print(scores.mean())"
      ],
      "execution_count": 0,
      "outputs": []
    },
    {
      "cell_type": "code",
      "metadata": {
        "id": "HcWjowjH0vZo",
        "colab_type": "code",
        "colab": {}
      },
      "source": [
        "from sklearn.ensemble import AdaBoostClassifier\n",
        "from sklearn.ensemble import RandomForestClassifier\n",
        "\n",
        "clf2 = RandomForestClassifier(n_jobs=2, random_state=0, verbose=1,n_estimators=10)\n",
        "bclf = AdaBoostClassifier(base_estimator=clf2,n_estimators=clf2.n_estimators)\n",
        "\n",
        "\n",
        "bclf.fit(train_X4, train_y4)\n",
        "#clf2.fit(train_X4, train_y4)\n",
        "predictions2=bclf.predict(test_X4)\n",
        "print(classification_report(test_y4,predictions2))\n",
        "scores2 = cross_val_score(bclf, train_X4, train_y4, cv=2)\n",
        "print(scores2.mean())"
      ],
      "execution_count": 0,
      "outputs": []
    },
    {
      "cell_type": "code",
      "metadata": {
        "id": "PxGpf47VEVeb",
        "colab_type": "code",
        "outputId": "31b38b68-ab93-490e-ab47-98582a2fa471",
        "colab": {
          "base_uri": "https://localhost:8080/",
          "height": 1000
        }
      },
      "source": [
        "predictions2=clf2.predict(X5)\n",
        "print(classification_report(y5,predictions2))"
      ],
      "execution_count": 0,
      "outputs": [
        {
          "output_type": "stream",
          "text": [
            "              precision    recall  f1-score   support\n",
            "\n",
            "      -243.0       0.00      0.00      0.00         1\n",
            "      -215.0       0.00      0.00      0.00         1\n",
            "      -207.0       0.00      0.00      0.00         1\n",
            "       -45.0       0.00      0.00      0.00         1\n",
            "        -9.0       0.00      0.00      0.00         1\n",
            "         0.0       0.05      0.50      0.10       133\n",
            "         1.0       0.00      0.00      0.00         6\n",
            "         2.0       0.00      0.00      0.00         1\n",
            "         3.0       0.00      0.00      0.00         2\n",
            "         5.0       0.00      0.00      0.00         1\n",
            "         9.0       0.00      0.00      0.00         1\n",
            "        10.0       0.00      0.00      0.00         1\n",
            "        14.0       0.00      0.00      0.00         1\n",
            "        15.0       0.00      0.00      0.00         1\n",
            "        16.0       0.00      0.00      0.00         3\n",
            "        17.0       0.00      0.00      0.00         7\n",
            "        23.0       0.00      0.00      0.00         1\n",
            "        24.0       0.00      0.00      0.00         1\n",
            "        27.0       0.00      0.00      0.00         1\n",
            "        28.0       0.00      0.00      0.00         2\n",
            "        29.0       0.00      0.00      0.00         2\n",
            "        32.0       0.00      0.00      0.00        12\n",
            "        40.0       0.00      0.00      0.00         1\n",
            "        43.0       0.00      0.00      0.00         1\n",
            "        45.0       0.00      0.00      0.00        24\n",
            "        46.0       0.00      0.00      0.00         2\n",
            "        47.0       0.00      0.00      0.00        39\n",
            "        48.0       0.00      0.00      0.00         2\n",
            "        49.0       0.00      0.00      0.00         3\n",
            "        50.0       0.00      0.00      0.00         6\n",
            "        51.0       0.00      0.00      0.00         1\n",
            "        54.0       0.00      0.00      0.00         2\n",
            "        56.0       0.00      0.00      0.00        25\n",
            "        57.0       0.00      0.00      0.00         3\n",
            "        58.0       0.00      0.00      0.00         6\n",
            "        61.0       0.00      0.00      0.00         8\n",
            "        63.0       0.00      0.00      0.00         6\n",
            "        65.0       0.00      0.00      0.00         1\n",
            "        67.0       0.00      0.00      0.00         1\n",
            "        72.0       0.00      0.00      0.00        74\n",
            "        78.0       0.00      0.00      0.00         1\n",
            "        79.0       0.00      0.00      0.00         1\n",
            "        81.0       0.00      0.00      0.00         1\n",
            "        82.0       0.00      0.00      0.00         1\n",
            "        83.0       0.00      0.00      0.00         1\n",
            "        84.0       0.00      0.00      0.00        11\n",
            "        85.0       0.00      0.00      0.00         3\n",
            "        87.0       0.00      0.00      0.00         1\n",
            "        91.0       0.00      0.00      0.00         2\n",
            "        92.0       0.00      0.00      0.00         1\n",
            "        94.0       0.00      0.00      0.00         1\n",
            "        95.0       0.00      0.00      0.00         8\n",
            "        97.0       0.00      0.00      0.00        36\n",
            "        98.0       0.00      0.00      0.00        19\n",
            "        99.0       0.00      0.00      0.00        13\n",
            "       100.0       0.00      0.00      0.00        20\n",
            "       101.0       0.00      0.00      0.00        21\n",
            "       102.0       0.00      0.00      0.00         7\n",
            "       103.0       0.00      0.00      0.00        10\n",
            "       104.0       0.00      0.00      0.00         1\n",
            "       105.0       0.00      0.00      0.00        58\n",
            "       106.0       0.00      0.00      0.00         1\n",
            "       107.0       0.00      0.00      0.00         5\n",
            "       108.0       0.00      0.00      0.00         5\n",
            "       109.0       0.00      0.00      0.00         6\n",
            "       110.0       0.00      0.00      0.00        43\n",
            "       111.0       0.00      0.00      0.00       118\n",
            "       112.0       0.00      0.00      0.00        17\n",
            "       113.0       0.00      0.00      0.00         3\n",
            "       114.0       0.00      0.00      0.00         9\n",
            "       115.0       0.00      0.00      0.00        32\n",
            "       116.0       0.00      0.00      0.00       110\n",
            "       117.0       0.00      0.00      0.00         7\n",
            "       118.0       0.00      0.00      0.00         2\n",
            "       119.0       0.00      0.00      0.00         1\n",
            "       120.0       0.00      0.00      0.00         2\n",
            "       121.0       0.00      0.00      0.00         3\n",
            "       122.0       0.00      0.00      0.00         1\n",
            "       124.0       0.00      0.00      0.00         2\n",
            "       126.0       0.00      0.00      0.00         5\n",
            "       129.0       0.00      0.00      0.00         1\n",
            "       130.0       0.00      0.00      0.00         2\n",
            "       132.0       0.00      0.00      0.00         1\n",
            "       134.0       0.00      0.00      0.00         1\n",
            "       137.0       0.00      0.00      0.00         2\n",
            "       143.0       0.00      0.00      0.00         1\n",
            "       144.0       0.00      0.00      0.00         1\n",
            "       145.0       0.00      0.00      0.00         1\n",
            "       147.0       0.00      0.00      0.00         1\n",
            "       148.0       0.00      0.00      0.00         6\n",
            "       149.0       0.00      0.00      0.00         3\n",
            "       150.0       0.00      0.00      0.00         1\n",
            "       151.0       0.00      0.00      0.00         2\n",
            "       152.0       0.00      0.00      0.00         2\n",
            "       153.0       0.00      0.00      0.00         1\n",
            "       154.0       0.00      0.00      0.00         2\n",
            "       155.0       0.00      0.00      0.00         2\n",
            "       156.0       0.00      0.00      0.00         3\n",
            "       157.0       0.00      0.00      0.00        10\n",
            "       159.0       0.00      0.00      0.00         4\n",
            "       160.0       0.00      0.00      0.00        10\n",
            "       161.0       0.00      0.00      0.00        15\n",
            "       162.0       0.00      0.00      0.00        18\n",
            "       163.0       0.00      0.00      0.00         2\n",
            "       164.0       0.00      0.00      0.00         9\n",
            "       165.0       0.00      0.00      0.00         7\n",
            "       166.0       0.00      0.00      0.00        11\n",
            "       167.0       0.00      0.00      0.00         8\n",
            "       168.0       0.00      0.00      0.00         6\n",
            "       169.0       0.00      0.00      0.00        25\n",
            "       170.0       0.00      0.00      0.00        11\n",
            "       171.0       0.00      0.00      0.00         7\n",
            "       172.0       0.00      0.00      0.00        12\n",
            "       173.0       0.00      0.00      0.00         9\n",
            "       174.0       0.00      0.00      0.00         7\n",
            "       175.0       0.00      0.00      0.00         6\n",
            "       176.0       0.00      0.00      0.00         8\n",
            "       177.0       0.00      0.00      0.00         3\n",
            "       179.0       0.00      0.00      0.00         4\n",
            "       180.0       0.00      0.00      0.00         2\n",
            "       181.0       0.00      0.00      0.00         1\n",
            "       182.0       0.00      0.00      0.00         1\n",
            "       183.0       0.00      0.00      0.00         3\n",
            "       184.0       0.00      0.00      0.00         5\n",
            "       185.0       0.00      0.00      0.00         2\n",
            "       186.0       0.00      0.00      0.00         1\n",
            "       187.0       0.00      0.00      0.00         2\n",
            "       188.0       0.00      0.00      0.00         2\n",
            "       189.0       0.00      0.00      0.00         5\n",
            "       191.0       0.00      0.00      0.00         5\n",
            "       192.0       0.00      0.00      0.00         7\n",
            "       193.0       0.00      0.00      0.00         4\n",
            "       194.0       0.00      0.00      0.00         2\n",
            "       195.0       0.00      0.00      0.00         6\n",
            "       196.0       0.00      0.00      0.00         3\n",
            "       197.0       0.00      0.00      0.00         1\n",
            "       198.0       0.00      0.00      0.00         3\n",
            "       199.0       0.00      0.00      0.00         2\n",
            "       200.0       0.00      0.00      0.00         2\n",
            "       202.0       0.00      0.00      0.00         1\n",
            "       203.0       0.00      0.00      0.00         1\n",
            "       205.0       0.00      0.00      0.00         1\n",
            "       206.0       0.00      0.00      0.00         1\n",
            "       207.0       0.00      0.00      0.00         2\n",
            "       208.0       0.00      0.00      0.00         1\n",
            "       210.0       0.00      0.00      0.00         4\n",
            "       211.0       0.00      0.00      0.00         4\n",
            "       212.0       0.00      0.00      0.00         2\n",
            "       213.0       0.00      0.00      0.00         3\n",
            "       214.0       0.00      0.00      0.00         1\n",
            "       215.0       0.00      0.00      0.00         4\n",
            "       218.0       0.00      0.00      0.00         1\n",
            "       219.0       0.00      0.00      0.00         1\n",
            "       221.0       0.00      0.00      0.00         2\n",
            "       222.0       0.00      0.00      0.00         2\n",
            "       225.0       0.00      0.00      0.00         3\n",
            "       226.0       0.00      0.00      0.00         2\n",
            "       227.0       0.00      0.00      0.00         1\n",
            "       232.0       0.00      0.00      0.00         1\n",
            "       233.0       0.00      0.00      0.00         1\n",
            "       238.0       0.00      0.00      0.00         1\n",
            "       239.0       0.00      0.00      0.00         1\n",
            "       240.0       0.00      0.00      0.00         1\n",
            "       241.0       0.00      0.00      0.00         1\n",
            "       244.0       0.00      0.00      0.00         1\n",
            "       250.0       0.00      0.00      0.00         5\n",
            "       252.0       0.00      0.00      0.00       119\n",
            "       253.0       0.00      0.00      0.00         1\n",
            "       255.0       0.00      0.00      0.00         2\n",
            "      1460.0       0.00      0.00      0.00         0\n",
            "\n",
            "    accuracy                           0.05      1430\n",
            "   macro avg       0.00      0.00      0.00      1430\n",
            "weighted avg       0.01      0.05      0.01      1430\n",
            "\n"
          ],
          "name": "stdout"
        },
        {
          "output_type": "stream",
          "text": [
            "[Parallel(n_jobs=1)]: Using backend SequentialBackend with 1 concurrent workers.\n",
            "[Parallel(n_jobs=1)]: Done  10 out of  10 | elapsed:    0.1s finished\n",
            "/usr/local/lib/python3.6/dist-packages/sklearn/metrics/classification.py:1437: UndefinedMetricWarning: Precision and F-score are ill-defined and being set to 0.0 in labels with no predicted samples.\n",
            "  'precision', 'predicted', average, warn_for)\n",
            "/usr/local/lib/python3.6/dist-packages/sklearn/metrics/classification.py:1439: UndefinedMetricWarning: Recall and F-score are ill-defined and being set to 0.0 in labels with no true samples.\n",
            "  'recall', 'true', average, warn_for)\n"
          ],
          "name": "stderr"
        }
      ]
    }
  ]
}